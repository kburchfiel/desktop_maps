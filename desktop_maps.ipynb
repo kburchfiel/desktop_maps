{
 "cells": [
  {
   "cell_type": "markdown",
   "id": "a528e756-9e71-4f99-a3d7-3c6de9c9c0fb",
   "metadata": {},
   "source": [
    "# Desktop Maps [More documentation to come!]\n",
    "\n",
    "By Kenneth Burchfiel\n",
    "\n",
    "Code released under the MIT License\n",
    "\n",
    "(The maps created by this project are released into the public domain.)\n",
    "\n",
    "This program will create various maps of the contiguous US that can serve as desktop backgrounds."
   ]
  },
  {
   "cell_type": "markdown",
   "id": "0bbda99f-5ffc-45cd-80a3-bb2b37deca5f",
   "metadata": {},
   "source": [
    "## Downloading shapefiles\n",
    "\n",
    "I visited [the Census's shapefile website](https://www.census.gov/cgi-bin/geo/shapefiles/index.php) in order to download state, county, and zip-level boundaries. I chose to download 2021 boundaries (when available) rather than later versions so that Connecticut county boundaries would still be available.\n",
    "\n",
    "I selected the following shapefiles for download. Items marked in **bold** are currently in use within this script.\n",
    "\n",
    "1. Urban areas\n",
    "2. Core-based statistical areas\n",
    "3. Congressional Districts (the most recent ones available were from the 116th US Congress)\n",
    "4. The US coastline\n",
    "5. **Counties**\n",
    "6. **Primary roads**\n",
    "7. **States**\n",
    "8. Zip Code Tabulation Areas (ZCTAs)\n",
    "\n",
    "Once I had downloaded each of these datasets' corresponding zipfiles, I went ahead and extracted them, then placed them into a 'Datasets/Shapefiles' folder within my home folder. (Some of these datasets were well above the 100-megabyte limit for GitHub uploads, so I didn't add them directly into this project. However, these files can be downloaded for free using the web page linked above.)"
   ]
  },
  {
   "cell_type": "code",
   "execution_count": 1,
   "id": "7b93c8b7-5653-4132-8f1d-fbd4416690c6",
   "metadata": {
    "execution": {
     "iopub.execute_input": "2024-08-27T05:24:06.878681Z",
     "iopub.status.busy": "2024-08-27T05:24:06.878479Z",
     "iopub.status.idle": "2024-08-27T05:24:07.256027Z",
     "shell.execute_reply": "2024-08-27T05:24:07.255706Z",
     "shell.execute_reply.started": "2024-08-27T05:24:06.878668Z"
    }
   },
   "outputs": [],
   "source": [
    "from datetime import datetime\n",
    "import time\n",
    "start_time = time.time()\n",
    "import pandas as pd\n",
    "import geopandas as gpd\n",
    "import folium\n",
    "import time\n",
    "from selenium import webdriver\n",
    "import os\n",
    "from PIL import Image # I ran conda install pillow\n",
    "# in order to get PIL set up on my conda environment."
   ]
  },
  {
   "cell_type": "code",
   "execution_count": 2,
   "id": "be1879d1-36a4-43d9-ab31-58d1eedc4b0f",
   "metadata": {
    "execution": {
     "iopub.execute_input": "2024-08-27T05:24:07.257058Z",
     "iopub.status.busy": "2024-08-27T05:24:07.256861Z",
     "iopub.status.idle": "2024-08-27T05:24:07.259012Z",
     "shell.execute_reply": "2024-08-27T05:24:07.258713Z",
     "shell.execute_reply.started": "2024-08-27T05:24:07.257046Z"
    }
   },
   "outputs": [],
   "source": [
    "path_to_shapefiles = '../../../../../Datasets/Shapefiles/' # You'll need\n",
    "# to update this path on your end to point to your own copies of the shapefiles."
   ]
  },
  {
   "cell_type": "markdown",
   "id": "53ec046a-9151-47d3-b5ce-11b3e0ba2ec8",
   "metadata": {
    "execution": {
     "iopub.execute_input": "2024-08-27T04:38:03.704786Z",
     "iopub.status.busy": "2024-08-27T04:38:03.704306Z",
     "iopub.status.idle": "2024-08-27T04:38:03.711449Z",
     "shell.execute_reply": "2024-08-27T04:38:03.709989Z",
     "shell.execute_reply.started": "2024-08-27T04:38:03.704750Z"
    }
   },
   "source": [
    "Here are the the shapefile folders that I downloaded: \n",
    "\n",
    "(The shapefiles are present within, and share the same names as, these folders. For instance, the 'tl_2021_us_primaryroads.shp' shapefile is located within the 'tl_2021_us_primaryroads' folder."
   ]
  },
  {
   "cell_type": "code",
   "execution_count": 3,
   "id": "d746db91-9c09-487f-ad79-d40a9a24071d",
   "metadata": {
    "execution": {
     "iopub.execute_input": "2024-08-27T05:24:07.259495Z",
     "iopub.status.busy": "2024-08-27T05:24:07.259390Z",
     "iopub.status.idle": "2024-08-27T05:24:07.269411Z",
     "shell.execute_reply": "2024-08-27T05:24:07.269011Z",
     "shell.execute_reply.started": "2024-08-27T05:24:07.259485Z"
    }
   },
   "outputs": [
    {
     "data": {
      "text/plain": [
       "['tl_2021_us_primaryroads',\n",
       " 'tl_2021_us_cbsa',\n",
       " 'tl_2021_us_csa',\n",
       " 'tl_2021_us_state',\n",
       " 'tl_2021_us_cd116',\n",
       " 'tl_2021_us_zcta520',\n",
       " 'tl_2021_us_coastline',\n",
       " 'tl_2020_us_uac20',\n",
       " 'tl_2021_us_county']"
      ]
     },
     "execution_count": 3,
     "metadata": {},
     "output_type": "execute_result"
    }
   ],
   "source": [
    "os.listdir(path_to_shapefiles)"
   ]
  },
  {
   "cell_type": "markdown",
   "id": "cec99e4b-93a1-4935-9e0a-0c09074cbd74",
   "metadata": {},
   "source": [
    "## Reading in a polygon that provides a rough outline of the contiguous US:\n",
    "\n",
    "(I created this file within geojson.io.)"
   ]
  },
  {
   "cell_type": "code",
   "execution_count": 4,
   "id": "c3e30cf5-2c8b-4a11-b87c-6171d6844514",
   "metadata": {
    "execution": {
     "iopub.execute_input": "2024-08-27T05:24:07.270108Z",
     "iopub.status.busy": "2024-08-27T05:24:07.269945Z",
     "iopub.status.idle": "2024-08-27T05:24:07.327216Z",
     "shell.execute_reply": "2024-08-27T05:24:07.326868Z",
     "shell.execute_reply.started": "2024-08-27T05:24:07.270095Z"
    }
   },
   "outputs": [
    {
     "data": {
      "text/html": [
       "<div>\n",
       "<style scoped>\n",
       "    .dataframe tbody tr th:only-of-type {\n",
       "        vertical-align: middle;\n",
       "    }\n",
       "\n",
       "    .dataframe tbody tr th {\n",
       "        vertical-align: top;\n",
       "    }\n",
       "\n",
       "    .dataframe thead th {\n",
       "        text-align: right;\n",
       "    }\n",
       "</style>\n",
       "<table border=\"1\" class=\"dataframe\">\n",
       "  <thead>\n",
       "    <tr style=\"text-align: right;\">\n",
       "      <th></th>\n",
       "      <th>contig_us_bounds</th>\n",
       "      <th>merge_key</th>\n",
       "    </tr>\n",
       "  </thead>\n",
       "  <tbody>\n",
       "    <tr>\n",
       "      <th>0</th>\n",
       "      <td>POLYGON ((-125.96355 47.7781, -127.04332 47.30...</td>\n",
       "      <td>1</td>\n",
       "    </tr>\n",
       "  </tbody>\n",
       "</table>\n",
       "</div>"
      ],
      "text/plain": [
       "                                    contig_us_bounds  merge_key\n",
       "0  POLYGON ((-125.96355 47.7781, -127.04332 47.30...          1"
      ]
     },
     "execution_count": 4,
     "metadata": {},
     "output_type": "execute_result"
    }
   ],
   "source": [
    "gdf_contig_us_bounds = gpd.read_file('contiguous_us_bounds.json')\n",
    "gdf_contig_us_bounds['geometry'] = gdf_contig_us_bounds['geometry'].to_crs('EPSG:4269')\n",
    "gdf_contig_us_bounds['merge_key'] = 1\n",
    "gdf_contig_us_bounds.rename(\n",
    "    columns = {'geometry':'contig_us_bounds'}, inplace = True)\n",
    "gdf_contig_us_bounds"
   ]
  },
  {
   "cell_type": "markdown",
   "id": "bb17655b-f19b-4f34-9952-863d85fd0fa0",
   "metadata": {},
   "source": [
    "Note: I based the to_crs() call above on the following warning message I had received in an earlier version of the code:"
   ]
  },
  {
   "cell_type": "markdown",
   "id": "ba927c09-357c-4e5c-ba0e-b7775437cbd0",
   "metadata": {},
   "source": [
    "UserWarning: CRS mismatch between the CRS of left geometries and the CRS of right geometries.\n",
    "Use `to_crs()` to reproject one of the input geometries to match the CRS of the other.\n",
    "\n",
    "Left CRS: EPSG:4269\n",
    "Right CRS: EPSG:4326\n",
    "\n",
    "  gdf_roads['within_contig_us'] = gdf_roads['geometry'].within("
   ]
  },
  {
   "cell_type": "code",
   "execution_count": 5,
   "id": "a5d201f7-6968-45ef-88f9-f47e4409e24e",
   "metadata": {
    "execution": {
     "iopub.execute_input": "2024-08-27T05:24:07.327825Z",
     "iopub.status.busy": "2024-08-27T05:24:07.327624Z",
     "iopub.status.idle": "2024-08-27T05:24:09.523013Z",
     "shell.execute_reply": "2024-08-27T05:24:09.522560Z",
     "shell.execute_reply.started": "2024-08-27T05:24:07.327805Z"
    }
   },
   "outputs": [
    {
     "data": {
      "text/html": [
       "<div>\n",
       "<style scoped>\n",
       "    .dataframe tbody tr th:only-of-type {\n",
       "        vertical-align: middle;\n",
       "    }\n",
       "\n",
       "    .dataframe tbody tr th {\n",
       "        vertical-align: top;\n",
       "    }\n",
       "\n",
       "    .dataframe thead th {\n",
       "        text-align: right;\n",
       "    }\n",
       "</style>\n",
       "<table border=\"1\" class=\"dataframe\">\n",
       "  <thead>\n",
       "    <tr style=\"text-align: right;\">\n",
       "      <th></th>\n",
       "      <th>LINEARID</th>\n",
       "      <th>FULLNAME</th>\n",
       "      <th>RTTYP</th>\n",
       "      <th>MTFCC</th>\n",
       "      <th>geometry</th>\n",
       "      <th>contig_us_bounds</th>\n",
       "    </tr>\n",
       "  </thead>\n",
       "  <tbody>\n",
       "    <tr>\n",
       "      <th>0</th>\n",
       "      <td>1106073066667</td>\n",
       "      <td>W I- 20</td>\n",
       "      <td>I</td>\n",
       "      <td>S1100</td>\n",
       "      <td>LINESTRING (-98.10768 32.61152, -98.07695 32.6...</td>\n",
       "      <td>POLYGON ((-125.96355 47.7781, -127.04332 47.30...</td>\n",
       "    </tr>\n",
       "    <tr>\n",
       "      <th>1</th>\n",
       "      <td>110766972487</td>\n",
       "      <td>W I- 20</td>\n",
       "      <td>I</td>\n",
       "      <td>S1100</td>\n",
       "      <td>LINESTRING (-102.76769 31.63855, -102.80296 31...</td>\n",
       "      <td>POLYGON ((-125.96355 47.7781, -127.04332 47.30...</td>\n",
       "    </tr>\n",
       "    <tr>\n",
       "      <th>2</th>\n",
       "      <td>1104259293529</td>\n",
       "      <td>W I- 20</td>\n",
       "      <td>I</td>\n",
       "      <td>S1100</td>\n",
       "      <td>LINESTRING (-103.3894 31.42685, -103.35124 31....</td>\n",
       "      <td>POLYGON ((-125.96355 47.7781, -127.04332 47.30...</td>\n",
       "    </tr>\n",
       "    <tr>\n",
       "      <th>3</th>\n",
       "      <td>110206001621</td>\n",
       "      <td>W I- 20</td>\n",
       "      <td>I</td>\n",
       "      <td>S1100</td>\n",
       "      <td>LINESTRING (-98.97076 32.37467, -99.01205 32.3...</td>\n",
       "      <td>POLYGON ((-125.96355 47.7781, -127.04332 47.30...</td>\n",
       "    </tr>\n",
       "    <tr>\n",
       "      <th>4</th>\n",
       "      <td>110451633229</td>\n",
       "      <td>I- 785</td>\n",
       "      <td>I</td>\n",
       "      <td>S1100</td>\n",
       "      <td>LINESTRING (-79.68662 36.0495, -79.6844 36.056...</td>\n",
       "      <td>POLYGON ((-125.96355 47.7781, -127.04332 47.30...</td>\n",
       "    </tr>\n",
       "  </tbody>\n",
       "</table>\n",
       "</div>"
      ],
      "text/plain": [
       "        LINEARID FULLNAME RTTYP  MTFCC  \\\n",
       "0  1106073066667  W I- 20     I  S1100   \n",
       "1   110766972487  W I- 20     I  S1100   \n",
       "2  1104259293529  W I- 20     I  S1100   \n",
       "3   110206001621  W I- 20     I  S1100   \n",
       "4   110451633229   I- 785     I  S1100   \n",
       "\n",
       "                                            geometry  \\\n",
       "0  LINESTRING (-98.10768 32.61152, -98.07695 32.6...   \n",
       "1  LINESTRING (-102.76769 31.63855, -102.80296 31...   \n",
       "2  LINESTRING (-103.3894 31.42685, -103.35124 31....   \n",
       "3  LINESTRING (-98.97076 32.37467, -99.01205 32.3...   \n",
       "4  LINESTRING (-79.68662 36.0495, -79.6844 36.056...   \n",
       "\n",
       "                                    contig_us_bounds  \n",
       "0  POLYGON ((-125.96355 47.7781, -127.04332 47.30...  \n",
       "1  POLYGON ((-125.96355 47.7781, -127.04332 47.30...  \n",
       "2  POLYGON ((-125.96355 47.7781, -127.04332 47.30...  \n",
       "3  POLYGON ((-125.96355 47.7781, -127.04332 47.30...  \n",
       "4  POLYGON ((-125.96355 47.7781, -127.04332 47.30...  "
      ]
     },
     "execution_count": 5,
     "metadata": {},
     "output_type": "execute_result"
    }
   ],
   "source": [
    "gdf_roads = gpd.read_file(\n",
    "    path_to_shapefiles\n",
    "    +'tl_2021_us_primaryroads/tl_2021_us_primaryroads.shp')\n",
    "gdf_roads['geometry'] = gdf_roads['geometry'].simplify(tolerance = 0.001).copy()\n",
    "gdf_roads['merge_key'] = 1\n",
    "gdf_roads.query(\"RTTYP == 'I'\", inplace = True) # Limits routes shown to\n",
    "# US interstate highways\n",
    "gdf_roads = gdf_roads.merge(gdf_contig_us_bounds, \n",
    "                            on = 'merge_key', how = 'left')\n",
    "gdf_roads.drop('merge_key', axis = 1, inplace = True)\n",
    "gdf_roads.head()"
   ]
  },
  {
   "cell_type": "markdown",
   "id": "4e0a4f8c-9c0c-4cb1-a28a-c2be2b0b0fca",
   "metadata": {},
   "source": [
    "## Cropping this list of roads to include only those within the contiguous US:\n",
    "\n",
    "(This step ended up not being necessary, but I'm leaving this code in because it could serve as a useful reference for future projects that *do* require filtering results to ontly include those within a given boundary.)"
   ]
  },
  {
   "cell_type": "code",
   "execution_count": 6,
   "id": "5b50af51-4b8c-447f-a490-618c3edf5aa7",
   "metadata": {
    "execution": {
     "iopub.execute_input": "2024-08-27T05:24:09.524103Z",
     "iopub.status.busy": "2024-08-27T05:24:09.523826Z",
     "iopub.status.idle": "2024-08-27T05:24:09.575174Z",
     "shell.execute_reply": "2024-08-27T05:24:09.574793Z",
     "shell.execute_reply.started": "2024-08-27T05:24:09.524084Z"
    }
   },
   "outputs": [
    {
     "data": {
      "text/html": [
       "<div>\n",
       "<style scoped>\n",
       "    .dataframe tbody tr th:only-of-type {\n",
       "        vertical-align: middle;\n",
       "    }\n",
       "\n",
       "    .dataframe tbody tr th {\n",
       "        vertical-align: top;\n",
       "    }\n",
       "\n",
       "    .dataframe thead th {\n",
       "        text-align: right;\n",
       "    }\n",
       "</style>\n",
       "<table border=\"1\" class=\"dataframe\">\n",
       "  <thead>\n",
       "    <tr style=\"text-align: right;\">\n",
       "      <th></th>\n",
       "      <th>LINEARID</th>\n",
       "      <th>FULLNAME</th>\n",
       "      <th>RTTYP</th>\n",
       "      <th>MTFCC</th>\n",
       "      <th>geometry</th>\n",
       "      <th>within_contig_us</th>\n",
       "    </tr>\n",
       "  </thead>\n",
       "  <tbody>\n",
       "    <tr>\n",
       "      <th>0</th>\n",
       "      <td>1106073066667</td>\n",
       "      <td>W I- 20</td>\n",
       "      <td>I</td>\n",
       "      <td>S1100</td>\n",
       "      <td>LINESTRING (-98.10768 32.61152, -98.07695 32.6...</td>\n",
       "      <td>True</td>\n",
       "    </tr>\n",
       "    <tr>\n",
       "      <th>1</th>\n",
       "      <td>110766972487</td>\n",
       "      <td>W I- 20</td>\n",
       "      <td>I</td>\n",
       "      <td>S1100</td>\n",
       "      <td>LINESTRING (-102.76769 31.63855, -102.80296 31...</td>\n",
       "      <td>True</td>\n",
       "    </tr>\n",
       "    <tr>\n",
       "      <th>2</th>\n",
       "      <td>1104259293529</td>\n",
       "      <td>W I- 20</td>\n",
       "      <td>I</td>\n",
       "      <td>S1100</td>\n",
       "      <td>LINESTRING (-103.3894 31.42685, -103.35124 31....</td>\n",
       "      <td>True</td>\n",
       "    </tr>\n",
       "    <tr>\n",
       "      <th>3</th>\n",
       "      <td>110206001621</td>\n",
       "      <td>W I- 20</td>\n",
       "      <td>I</td>\n",
       "      <td>S1100</td>\n",
       "      <td>LINESTRING (-98.97076 32.37467, -99.01205 32.3...</td>\n",
       "      <td>True</td>\n",
       "    </tr>\n",
       "    <tr>\n",
       "      <th>4</th>\n",
       "      <td>110451633229</td>\n",
       "      <td>I- 785</td>\n",
       "      <td>I</td>\n",
       "      <td>S1100</td>\n",
       "      <td>LINESTRING (-79.68662 36.0495, -79.6844 36.056...</td>\n",
       "      <td>True</td>\n",
       "    </tr>\n",
       "    <tr>\n",
       "      <th>...</th>\n",
       "      <td>...</td>\n",
       "      <td>...</td>\n",
       "      <td>...</td>\n",
       "      <td>...</td>\n",
       "      <td>...</td>\n",
       "      <td>...</td>\n",
       "    </tr>\n",
       "    <tr>\n",
       "      <th>5603</th>\n",
       "      <td>11012815134136</td>\n",
       "      <td>I- 10 (Hov)</td>\n",
       "      <td>I</td>\n",
       "      <td>S1100</td>\n",
       "      <td>LINESTRING (-95.45164 29.7794, -95.45015 29.77...</td>\n",
       "      <td>True</td>\n",
       "    </tr>\n",
       "    <tr>\n",
       "      <th>5604</th>\n",
       "      <td>11013551329905</td>\n",
       "      <td>I- 25 (Express Lanes)</td>\n",
       "      <td>I</td>\n",
       "      <td>S1100</td>\n",
       "      <td>LINESTRING (-105.00229 39.76354, -104.99257 39...</td>\n",
       "      <td>True</td>\n",
       "    </tr>\n",
       "    <tr>\n",
       "      <th>5605</th>\n",
       "      <td>11013551330519</td>\n",
       "      <td>I- 25 (Express Lanes)</td>\n",
       "      <td>I</td>\n",
       "      <td>S1100</td>\n",
       "      <td>LINESTRING (-105.00545 39.76025, -105.00229 39...</td>\n",
       "      <td>True</td>\n",
       "    </tr>\n",
       "    <tr>\n",
       "      <th>5606</th>\n",
       "      <td>11013473368094</td>\n",
       "      <td>I- 25 (Express Lanes)</td>\n",
       "      <td>I</td>\n",
       "      <td>S1100</td>\n",
       "      <td>LINESTRING (-105.0057 39.76043, -105.00229 39....</td>\n",
       "      <td>True</td>\n",
       "    </tr>\n",
       "    <tr>\n",
       "      <th>5607</th>\n",
       "      <td>1104271365671</td>\n",
       "      <td>I- 25 (Express Lanes)</td>\n",
       "      <td>I</td>\n",
       "      <td>S1100</td>\n",
       "      <td>LINESTRING (-104.98861 39.79104, -104.98315 39...</td>\n",
       "      <td>True</td>\n",
       "    </tr>\n",
       "  </tbody>\n",
       "</table>\n",
       "<p>5599 rows × 6 columns</p>\n",
       "</div>"
      ],
      "text/plain": [
       "            LINEARID               FULLNAME RTTYP  MTFCC  \\\n",
       "0      1106073066667                W I- 20     I  S1100   \n",
       "1       110766972487                W I- 20     I  S1100   \n",
       "2      1104259293529                W I- 20     I  S1100   \n",
       "3       110206001621                W I- 20     I  S1100   \n",
       "4       110451633229                 I- 785     I  S1100   \n",
       "...              ...                    ...   ...    ...   \n",
       "5603  11012815134136            I- 10 (Hov)     I  S1100   \n",
       "5604  11013551329905  I- 25 (Express Lanes)     I  S1100   \n",
       "5605  11013551330519  I- 25 (Express Lanes)     I  S1100   \n",
       "5606  11013473368094  I- 25 (Express Lanes)     I  S1100   \n",
       "5607   1104271365671  I- 25 (Express Lanes)     I  S1100   \n",
       "\n",
       "                                               geometry  within_contig_us  \n",
       "0     LINESTRING (-98.10768 32.61152, -98.07695 32.6...              True  \n",
       "1     LINESTRING (-102.76769 31.63855, -102.80296 31...              True  \n",
       "2     LINESTRING (-103.3894 31.42685, -103.35124 31....              True  \n",
       "3     LINESTRING (-98.97076 32.37467, -99.01205 32.3...              True  \n",
       "4     LINESTRING (-79.68662 36.0495, -79.6844 36.056...              True  \n",
       "...                                                 ...               ...  \n",
       "5603  LINESTRING (-95.45164 29.7794, -95.45015 29.77...              True  \n",
       "5604  LINESTRING (-105.00229 39.76354, -104.99257 39...              True  \n",
       "5605  LINESTRING (-105.00545 39.76025, -105.00229 39...              True  \n",
       "5606  LINESTRING (-105.0057 39.76043, -105.00229 39....              True  \n",
       "5607  LINESTRING (-104.98861 39.79104, -104.98315 39...              True  \n",
       "\n",
       "[5599 rows x 6 columns]"
      ]
     },
     "execution_count": 6,
     "metadata": {},
     "output_type": "execute_result"
    }
   ],
   "source": [
    "gdf_roads['within_contig_us'] = gdf_roads['geometry'].within(\n",
    "    gdf_roads['contig_us_bounds'])\n",
    "gdf_roads.query(\"within_contig_us == True\", inplace = True)\n",
    "gdf_roads.drop('contig_us_bounds', axis = 1, inplace = True) # If this column\n",
    "# were left in, we would end up with the following error message when trying\n",
    "# to create a map:\n",
    "# TypeError: Object of type Polygon is not JSON serializable\n",
    "gdf_roads"
   ]
  },
  {
   "cell_type": "markdown",
   "id": "bba68197-3604-451d-bc80-22661a11a74f",
   "metadata": {},
   "source": [
    "## Importing US state boundaries:"
   ]
  },
  {
   "cell_type": "code",
   "execution_count": 7,
   "id": "569d70d0-4099-4aa1-a630-59b6a4f71f84",
   "metadata": {
    "execution": {
     "iopub.execute_input": "2024-08-27T05:24:09.576177Z",
     "iopub.status.busy": "2024-08-27T05:24:09.575944Z",
     "iopub.status.idle": "2024-08-27T05:24:09.662770Z",
     "shell.execute_reply": "2024-08-27T05:24:09.662301Z",
     "shell.execute_reply.started": "2024-08-27T05:24:09.576161Z"
    }
   },
   "outputs": [
    {
     "data": {
      "text/html": [
       "<div>\n",
       "<style scoped>\n",
       "    .dataframe tbody tr th:only-of-type {\n",
       "        vertical-align: middle;\n",
       "    }\n",
       "\n",
       "    .dataframe tbody tr th {\n",
       "        vertical-align: top;\n",
       "    }\n",
       "\n",
       "    .dataframe thead th {\n",
       "        text-align: right;\n",
       "    }\n",
       "</style>\n",
       "<table border=\"1\" class=\"dataframe\">\n",
       "  <thead>\n",
       "    <tr style=\"text-align: right;\">\n",
       "      <th></th>\n",
       "      <th>REGION</th>\n",
       "      <th>DIVISION</th>\n",
       "      <th>STATEFP</th>\n",
       "      <th>STATENS</th>\n",
       "      <th>GEOID</th>\n",
       "      <th>STUSPS</th>\n",
       "      <th>NAME</th>\n",
       "      <th>LSAD</th>\n",
       "      <th>MTFCC</th>\n",
       "      <th>FUNCSTAT</th>\n",
       "      <th>ALAND</th>\n",
       "      <th>AWATER</th>\n",
       "      <th>INTPTLAT</th>\n",
       "      <th>INTPTLON</th>\n",
       "      <th>geometry</th>\n",
       "    </tr>\n",
       "  </thead>\n",
       "  <tbody>\n",
       "    <tr>\n",
       "      <th>0</th>\n",
       "      <td>3</td>\n",
       "      <td>5</td>\n",
       "      <td>54</td>\n",
       "      <td>01779805</td>\n",
       "      <td>54</td>\n",
       "      <td>WV</td>\n",
       "      <td>West Virginia</td>\n",
       "      <td>00</td>\n",
       "      <td>G4000</td>\n",
       "      <td>A</td>\n",
       "      <td>62266298634</td>\n",
       "      <td>489204185</td>\n",
       "      <td>+38.6472854</td>\n",
       "      <td>-080.6183274</td>\n",
       "      <td>POLYGON ((-80.85847 37.42831, -80.85856 37.428...</td>\n",
       "    </tr>\n",
       "    <tr>\n",
       "      <th>1</th>\n",
       "      <td>3</td>\n",
       "      <td>5</td>\n",
       "      <td>12</td>\n",
       "      <td>00294478</td>\n",
       "      <td>12</td>\n",
       "      <td>FL</td>\n",
       "      <td>Florida</td>\n",
       "      <td>00</td>\n",
       "      <td>G4000</td>\n",
       "      <td>A</td>\n",
       "      <td>138961722096</td>\n",
       "      <td>45972570361</td>\n",
       "      <td>+28.3989775</td>\n",
       "      <td>-082.5143005</td>\n",
       "      <td>MULTIPOLYGON (((-83.10874 24.62949, -83.10711 ...</td>\n",
       "    </tr>\n",
       "    <tr>\n",
       "      <th>2</th>\n",
       "      <td>2</td>\n",
       "      <td>3</td>\n",
       "      <td>17</td>\n",
       "      <td>01779784</td>\n",
       "      <td>17</td>\n",
       "      <td>IL</td>\n",
       "      <td>Illinois</td>\n",
       "      <td>00</td>\n",
       "      <td>G4000</td>\n",
       "      <td>A</td>\n",
       "      <td>143778561906</td>\n",
       "      <td>6216493488</td>\n",
       "      <td>+40.1028754</td>\n",
       "      <td>-089.1526108</td>\n",
       "      <td>POLYGON ((-89.17208 37.06831, -89.17296 37.067...</td>\n",
       "    </tr>\n",
       "    <tr>\n",
       "      <th>3</th>\n",
       "      <td>2</td>\n",
       "      <td>4</td>\n",
       "      <td>27</td>\n",
       "      <td>00662849</td>\n",
       "      <td>27</td>\n",
       "      <td>MN</td>\n",
       "      <td>Minnesota</td>\n",
       "      <td>00</td>\n",
       "      <td>G4000</td>\n",
       "      <td>A</td>\n",
       "      <td>206232627084</td>\n",
       "      <td>18949394733</td>\n",
       "      <td>+46.3159573</td>\n",
       "      <td>-094.1996043</td>\n",
       "      <td>POLYGON ((-92.74568 45.29604, -92.74629 45.295...</td>\n",
       "    </tr>\n",
       "    <tr>\n",
       "      <th>4</th>\n",
       "      <td>3</td>\n",
       "      <td>5</td>\n",
       "      <td>24</td>\n",
       "      <td>01714934</td>\n",
       "      <td>24</td>\n",
       "      <td>MD</td>\n",
       "      <td>Maryland</td>\n",
       "      <td>00</td>\n",
       "      <td>G4000</td>\n",
       "      <td>A</td>\n",
       "      <td>25151992308</td>\n",
       "      <td>6979074857</td>\n",
       "      <td>+38.9466584</td>\n",
       "      <td>-076.6744939</td>\n",
       "      <td>POLYGON ((-75.76659 39.37756, -75.7663 39.3738...</td>\n",
       "    </tr>\n",
       "  </tbody>\n",
       "</table>\n",
       "</div>"
      ],
      "text/plain": [
       "  REGION DIVISION STATEFP   STATENS GEOID STUSPS           NAME LSAD  MTFCC  \\\n",
       "0      3        5      54  01779805    54     WV  West Virginia   00  G4000   \n",
       "1      3        5      12  00294478    12     FL        Florida   00  G4000   \n",
       "2      2        3      17  01779784    17     IL       Illinois   00  G4000   \n",
       "3      2        4      27  00662849    27     MN      Minnesota   00  G4000   \n",
       "4      3        5      24  01714934    24     MD       Maryland   00  G4000   \n",
       "\n",
       "  FUNCSTAT         ALAND       AWATER     INTPTLAT      INTPTLON  \\\n",
       "0        A   62266298634    489204185  +38.6472854  -080.6183274   \n",
       "1        A  138961722096  45972570361  +28.3989775  -082.5143005   \n",
       "2        A  143778561906   6216493488  +40.1028754  -089.1526108   \n",
       "3        A  206232627084  18949394733  +46.3159573  -094.1996043   \n",
       "4        A   25151992308   6979074857  +38.9466584  -076.6744939   \n",
       "\n",
       "                                            geometry  \n",
       "0  POLYGON ((-80.85847 37.42831, -80.85856 37.428...  \n",
       "1  MULTIPOLYGON (((-83.10874 24.62949, -83.10711 ...  \n",
       "2  POLYGON ((-89.17208 37.06831, -89.17296 37.067...  \n",
       "3  POLYGON ((-92.74568 45.29604, -92.74629 45.295...  \n",
       "4  POLYGON ((-75.76659 39.37756, -75.7663 39.3738...  "
      ]
     },
     "execution_count": 7,
     "metadata": {},
     "output_type": "execute_result"
    }
   ],
   "source": [
    "gdf_states = gpd.read_file(path_to_shapefiles+'tl_2021_us_state/tl_2021_us_state.shp')\n",
    "# I found that non-US states other than DC had a 'DIVISION' value of 0. I used that fact\n",
    "# below to filter gdf_states to include only the 50 states plus DC:\n",
    "# gdf_states[(gdf_states['STUSPS'].isin(['AK', 'HI']) == False) & (gdf_states[\"DIVISION\"] != '0')]\n",
    "gdf_states.query(\"DIVISION != '0' & STUSPS not in ['AK', 'HI']\", inplace = True)\n",
    "gdf_states.head()"
   ]
  },
  {
   "cell_type": "markdown",
   "id": "c6abb664-9f2a-4a52-bfd4-ec44dc74cf17",
   "metadata": {},
   "source": [
    "## Creating an outline of the contiguous US:\n",
    "\n",
    "We can accomplish this by 'dissolving' all of the lower 48 US states together within Geopandas."
   ]
  },
  {
   "cell_type": "code",
   "execution_count": 8,
   "id": "669173af-8e25-41e8-b741-6e9ac4dee22a",
   "metadata": {
    "execution": {
     "iopub.execute_input": "2024-08-27T05:24:09.663307Z",
     "iopub.status.busy": "2024-08-27T05:24:09.663159Z",
     "iopub.status.idle": "2024-08-27T05:24:11.468764Z",
     "shell.execute_reply": "2024-08-27T05:24:11.468452Z",
     "shell.execute_reply.started": "2024-08-27T05:24:09.663295Z"
    }
   },
   "outputs": [
    {
     "data": {
      "text/html": [
       "<div>\n",
       "<style scoped>\n",
       "    .dataframe tbody tr th:only-of-type {\n",
       "        vertical-align: middle;\n",
       "    }\n",
       "\n",
       "    .dataframe tbody tr th {\n",
       "        vertical-align: top;\n",
       "    }\n",
       "\n",
       "    .dataframe thead th {\n",
       "        text-align: right;\n",
       "    }\n",
       "</style>\n",
       "<table border=\"1\" class=\"dataframe\">\n",
       "  <thead>\n",
       "    <tr style=\"text-align: right;\">\n",
       "      <th></th>\n",
       "      <th>US</th>\n",
       "      <th>geometry</th>\n",
       "    </tr>\n",
       "  </thead>\n",
       "  <tbody>\n",
       "    <tr>\n",
       "      <th>0</th>\n",
       "      <td>US</td>\n",
       "      <td>MULTIPOLYGON (((-93.83568 29.59677, -93.83649 ...</td>\n",
       "    </tr>\n",
       "  </tbody>\n",
       "</table>\n",
       "</div>"
      ],
      "text/plain": [
       "   US                                           geometry\n",
       "0  US  MULTIPOLYGON (((-93.83568 29.59677, -93.83649 ..."
      ]
     },
     "execution_count": 8,
     "metadata": {},
     "output_type": "execute_result"
    }
   ],
   "source": [
    "gdf_us_outline = gdf_states.copy()\n",
    "gdf_us_outline['US'] = 'US'\n",
    "gdf_us_outline = gdf_us_outline[['US', 'geometry']].dissolve(\n",
    "    by = 'US').reset_index()\n",
    "# See https://geopandas.org/en/stable/docs/user_guide/aggregation_with_dissolve.html\n",
    "gdf_us_outline"
   ]
  },
  {
   "cell_type": "markdown",
   "id": "ccfb4db2-7464-4ff7-aeda-8faaea1396a8",
   "metadata": {},
   "source": [
    "Simplifying our state shapefiles:\n",
    "(Note: I've found that dissolve() operations work best on pre-simplified datasets, which is why\n",
    "this simplify() call is proceeding the dissolve() call.)"
   ]
  },
  {
   "cell_type": "code",
   "execution_count": 9,
   "id": "de296f66-7cf2-4f27-b2ba-f4c163514545",
   "metadata": {
    "execution": {
     "iopub.execute_input": "2024-08-27T05:24:11.469253Z",
     "iopub.status.busy": "2024-08-27T05:24:11.469150Z",
     "iopub.status.idle": "2024-08-27T05:24:12.328426Z",
     "shell.execute_reply": "2024-08-27T05:24:12.328109Z",
     "shell.execute_reply.started": "2024-08-27T05:24:11.469244Z"
    }
   },
   "outputs": [
    {
     "data": {
      "text/html": [
       "<div>\n",
       "<style scoped>\n",
       "    .dataframe tbody tr th:only-of-type {\n",
       "        vertical-align: middle;\n",
       "    }\n",
       "\n",
       "    .dataframe tbody tr th {\n",
       "        vertical-align: top;\n",
       "    }\n",
       "\n",
       "    .dataframe thead th {\n",
       "        text-align: right;\n",
       "    }\n",
       "</style>\n",
       "<table border=\"1\" class=\"dataframe\">\n",
       "  <thead>\n",
       "    <tr style=\"text-align: right;\">\n",
       "      <th></th>\n",
       "      <th>REGION</th>\n",
       "      <th>DIVISION</th>\n",
       "      <th>STATEFP</th>\n",
       "      <th>STATENS</th>\n",
       "      <th>GEOID</th>\n",
       "      <th>STUSPS</th>\n",
       "      <th>NAME</th>\n",
       "      <th>LSAD</th>\n",
       "      <th>MTFCC</th>\n",
       "      <th>FUNCSTAT</th>\n",
       "      <th>ALAND</th>\n",
       "      <th>AWATER</th>\n",
       "      <th>INTPTLAT</th>\n",
       "      <th>INTPTLON</th>\n",
       "      <th>geometry</th>\n",
       "    </tr>\n",
       "  </thead>\n",
       "  <tbody>\n",
       "    <tr>\n",
       "      <th>0</th>\n",
       "      <td>3</td>\n",
       "      <td>5</td>\n",
       "      <td>54</td>\n",
       "      <td>01779805</td>\n",
       "      <td>54</td>\n",
       "      <td>WV</td>\n",
       "      <td>West Virginia</td>\n",
       "      <td>00</td>\n",
       "      <td>G4000</td>\n",
       "      <td>A</td>\n",
       "      <td>62266298634</td>\n",
       "      <td>489204185</td>\n",
       "      <td>+38.6472854</td>\n",
       "      <td>-080.6183274</td>\n",
       "      <td>POLYGON ((-80.84632 37.4234, -80.85946 37.4294...</td>\n",
       "    </tr>\n",
       "    <tr>\n",
       "      <th>1</th>\n",
       "      <td>3</td>\n",
       "      <td>5</td>\n",
       "      <td>12</td>\n",
       "      <td>00294478</td>\n",
       "      <td>12</td>\n",
       "      <td>FL</td>\n",
       "      <td>Florida</td>\n",
       "      <td>00</td>\n",
       "      <td>G4000</td>\n",
       "      <td>A</td>\n",
       "      <td>138961722096</td>\n",
       "      <td>45972570361</td>\n",
       "      <td>+28.3989775</td>\n",
       "      <td>-082.5143005</td>\n",
       "      <td>MULTIPOLYGON (((-83.10874 24.62949, -83.10352 ...</td>\n",
       "    </tr>\n",
       "    <tr>\n",
       "      <th>2</th>\n",
       "      <td>2</td>\n",
       "      <td>3</td>\n",
       "      <td>17</td>\n",
       "      <td>01779784</td>\n",
       "      <td>17</td>\n",
       "      <td>IL</td>\n",
       "      <td>Illinois</td>\n",
       "      <td>00</td>\n",
       "      <td>G4000</td>\n",
       "      <td>A</td>\n",
       "      <td>143778561906</td>\n",
       "      <td>6216493488</td>\n",
       "      <td>+40.1028754</td>\n",
       "      <td>-089.1526108</td>\n",
       "      <td>POLYGON ((-89.17208 37.06831, -89.17786 37.057...</td>\n",
       "    </tr>\n",
       "    <tr>\n",
       "      <th>3</th>\n",
       "      <td>2</td>\n",
       "      <td>4</td>\n",
       "      <td>27</td>\n",
       "      <td>00662849</td>\n",
       "      <td>27</td>\n",
       "      <td>MN</td>\n",
       "      <td>Minnesota</td>\n",
       "      <td>00</td>\n",
       "      <td>G4000</td>\n",
       "      <td>A</td>\n",
       "      <td>206232627084</td>\n",
       "      <td>18949394733</td>\n",
       "      <td>+46.3159573</td>\n",
       "      <td>-094.1996043</td>\n",
       "      <td>POLYGON ((-92.73547 45.30157, -92.75116 45.292...</td>\n",
       "    </tr>\n",
       "    <tr>\n",
       "      <th>4</th>\n",
       "      <td>3</td>\n",
       "      <td>5</td>\n",
       "      <td>24</td>\n",
       "      <td>01714934</td>\n",
       "      <td>24</td>\n",
       "      <td>MD</td>\n",
       "      <td>Maryland</td>\n",
       "      <td>00</td>\n",
       "      <td>G4000</td>\n",
       "      <td>A</td>\n",
       "      <td>25151992308</td>\n",
       "      <td>6979074857</td>\n",
       "      <td>+38.9466584</td>\n",
       "      <td>-076.6744939</td>\n",
       "      <td>POLYGON ((-75.78872 39.65076, -75.69367 38.460...</td>\n",
       "    </tr>\n",
       "  </tbody>\n",
       "</table>\n",
       "</div>"
      ],
      "text/plain": [
       "  REGION DIVISION STATEFP   STATENS GEOID STUSPS           NAME LSAD  MTFCC  \\\n",
       "0      3        5      54  01779805    54     WV  West Virginia   00  G4000   \n",
       "1      3        5      12  00294478    12     FL        Florida   00  G4000   \n",
       "2      2        3      17  01779784    17     IL       Illinois   00  G4000   \n",
       "3      2        4      27  00662849    27     MN      Minnesota   00  G4000   \n",
       "4      3        5      24  01714934    24     MD       Maryland   00  G4000   \n",
       "\n",
       "  FUNCSTAT         ALAND       AWATER     INTPTLAT      INTPTLON  \\\n",
       "0        A   62266298634    489204185  +38.6472854  -080.6183274   \n",
       "1        A  138961722096  45972570361  +28.3989775  -082.5143005   \n",
       "2        A  143778561906   6216493488  +40.1028754  -089.1526108   \n",
       "3        A  206232627084  18949394733  +46.3159573  -094.1996043   \n",
       "4        A   25151992308   6979074857  +38.9466584  -076.6744939   \n",
       "\n",
       "                                            geometry  \n",
       "0  POLYGON ((-80.84632 37.4234, -80.85946 37.4294...  \n",
       "1  MULTIPOLYGON (((-83.10874 24.62949, -83.10352 ...  \n",
       "2  POLYGON ((-89.17208 37.06831, -89.17786 37.057...  \n",
       "3  POLYGON ((-92.73547 45.30157, -92.75116 45.292...  \n",
       "4  POLYGON ((-75.78872 39.65076, -75.69367 38.460...  "
      ]
     },
     "execution_count": 9,
     "metadata": {},
     "output_type": "execute_result"
    }
   ],
   "source": [
    "gdf_states['geometry'] = gdf_states['geometry'].simplify(tolerance=0.001).copy()\n",
    "gdf_states.head()"
   ]
  },
  {
   "cell_type": "markdown",
   "id": "6ce1be7d-1d47-4885-b086-41404ce04d16",
   "metadata": {
    "execution": {
     "iopub.execute_input": "2024-08-27T03:28:22.847263Z",
     "iopub.status.busy": "2024-08-27T03:28:22.846785Z",
     "iopub.status.idle": "2024-08-27T03:28:22.852902Z",
     "shell.execute_reply": "2024-08-27T03:28:22.851501Z",
     "shell.execute_reply.started": "2024-08-27T03:28:22.847223Z"
    }
   },
   "source": [
    "## Importing boundaries for counties and county equivalents:"
   ]
  },
  {
   "cell_type": "code",
   "execution_count": 10,
   "id": "9d07686e-dd5a-4cf0-9d8d-8808d8190b4f",
   "metadata": {
    "execution": {
     "iopub.execute_input": "2024-08-27T05:24:12.328977Z",
     "iopub.status.busy": "2024-08-27T05:24:12.328879Z",
     "iopub.status.idle": "2024-08-27T05:24:18.292735Z",
     "shell.execute_reply": "2024-08-27T05:24:18.292225Z",
     "shell.execute_reply.started": "2024-08-27T05:24:12.328967Z"
    }
   },
   "outputs": [],
   "source": [
    "gdf_counties = gpd.read_file(\n",
    "    path_to_shapefiles\n",
    "    +'tl_2021_us_county/tl_2021_us_county.shp')\n",
    "gdf_counties['geometry'] = gdf_counties['geometry'].simplify(tolerance = 0.001).copy()\n",
    "# Determining color codes to use for our map:\n",
    "# (These codes will simply alternate between 0 and 1 in order to create\n",
    "# a checkerboard-like pattern within our county desktop map. \n",
    "# They don't have any informative value.)"
   ]
  },
  {
   "cell_type": "code",
   "execution_count": 11,
   "id": "018e345d-8a94-4885-9e56-828d349c9cad",
   "metadata": {
    "execution": {
     "iopub.execute_input": "2024-08-27T05:24:18.294375Z",
     "iopub.status.busy": "2024-08-27T05:24:18.294268Z",
     "iopub.status.idle": "2024-08-27T05:24:18.303752Z",
     "shell.execute_reply": "2024-08-27T05:24:18.303397Z",
     "shell.execute_reply.started": "2024-08-27T05:24:18.294364Z"
    }
   },
   "outputs": [
    {
     "data": {
      "text/html": [
       "<div>\n",
       "<style scoped>\n",
       "    .dataframe tbody tr th:only-of-type {\n",
       "        vertical-align: middle;\n",
       "    }\n",
       "\n",
       "    .dataframe tbody tr th {\n",
       "        vertical-align: top;\n",
       "    }\n",
       "\n",
       "    .dataframe thead th {\n",
       "        text-align: right;\n",
       "    }\n",
       "</style>\n",
       "<table border=\"1\" class=\"dataframe\">\n",
       "  <thead>\n",
       "    <tr style=\"text-align: right;\">\n",
       "      <th></th>\n",
       "      <th>STATEFP</th>\n",
       "      <th>COUNTYFP</th>\n",
       "      <th>COUNTYNS</th>\n",
       "      <th>GEOID</th>\n",
       "      <th>NAME</th>\n",
       "      <th>NAMELSAD</th>\n",
       "      <th>LSAD</th>\n",
       "      <th>CLASSFP</th>\n",
       "      <th>MTFCC</th>\n",
       "      <th>CSAFP</th>\n",
       "      <th>CBSAFP</th>\n",
       "      <th>METDIVFP</th>\n",
       "      <th>FUNCSTAT</th>\n",
       "      <th>ALAND</th>\n",
       "      <th>AWATER</th>\n",
       "      <th>INTPTLAT</th>\n",
       "      <th>INTPTLON</th>\n",
       "      <th>geometry</th>\n",
       "      <th>color_code</th>\n",
       "      <th>map_color</th>\n",
       "    </tr>\n",
       "  </thead>\n",
       "  <tbody>\n",
       "    <tr>\n",
       "      <th>0</th>\n",
       "      <td>31</td>\n",
       "      <td>039</td>\n",
       "      <td>00835841</td>\n",
       "      <td>31039</td>\n",
       "      <td>Cuming</td>\n",
       "      <td>Cuming County</td>\n",
       "      <td>06</td>\n",
       "      <td>H1</td>\n",
       "      <td>G4020</td>\n",
       "      <td>None</td>\n",
       "      <td>None</td>\n",
       "      <td>None</td>\n",
       "      <td>A</td>\n",
       "      <td>1477645345</td>\n",
       "      <td>10690204</td>\n",
       "      <td>+41.9158651</td>\n",
       "      <td>-096.7885168</td>\n",
       "      <td>POLYGON ((-96.55551 42.08996, -96.55517 41.742...</td>\n",
       "      <td>0</td>\n",
       "      <td>black</td>\n",
       "    </tr>\n",
       "    <tr>\n",
       "      <th>1</th>\n",
       "      <td>53</td>\n",
       "      <td>069</td>\n",
       "      <td>01513275</td>\n",
       "      <td>53069</td>\n",
       "      <td>Wahkiakum</td>\n",
       "      <td>Wahkiakum County</td>\n",
       "      <td>06</td>\n",
       "      <td>H1</td>\n",
       "      <td>G4020</td>\n",
       "      <td>None</td>\n",
       "      <td>None</td>\n",
       "      <td>None</td>\n",
       "      <td>A</td>\n",
       "      <td>680976231</td>\n",
       "      <td>61568965</td>\n",
       "      <td>+46.2946377</td>\n",
       "      <td>-123.4244583</td>\n",
       "      <td>POLYGON ((-123.72656 46.38487, -123.25907 46.3...</td>\n",
       "      <td>1</td>\n",
       "      <td>white</td>\n",
       "    </tr>\n",
       "    <tr>\n",
       "      <th>2</th>\n",
       "      <td>35</td>\n",
       "      <td>011</td>\n",
       "      <td>00933054</td>\n",
       "      <td>35011</td>\n",
       "      <td>De Baca</td>\n",
       "      <td>De Baca County</td>\n",
       "      <td>06</td>\n",
       "      <td>H1</td>\n",
       "      <td>G4020</td>\n",
       "      <td>None</td>\n",
       "      <td>None</td>\n",
       "      <td>None</td>\n",
       "      <td>A</td>\n",
       "      <td>6016818946</td>\n",
       "      <td>29090018</td>\n",
       "      <td>+34.3592729</td>\n",
       "      <td>-104.3686961</td>\n",
       "      <td>POLYGON ((-104.44494 34.69166, -104.33972 34.6...</td>\n",
       "      <td>0</td>\n",
       "      <td>black</td>\n",
       "    </tr>\n",
       "    <tr>\n",
       "      <th>3</th>\n",
       "      <td>31</td>\n",
       "      <td>109</td>\n",
       "      <td>00835876</td>\n",
       "      <td>31109</td>\n",
       "      <td>Lancaster</td>\n",
       "      <td>Lancaster County</td>\n",
       "      <td>06</td>\n",
       "      <td>H1</td>\n",
       "      <td>G4020</td>\n",
       "      <td>339</td>\n",
       "      <td>30700</td>\n",
       "      <td>None</td>\n",
       "      <td>A</td>\n",
       "      <td>2169272970</td>\n",
       "      <td>22847034</td>\n",
       "      <td>+40.7835474</td>\n",
       "      <td>-096.6886584</td>\n",
       "      <td>POLYGON ((-96.91094 41.04612, -96.46387 41.045...</td>\n",
       "      <td>1</td>\n",
       "      <td>white</td>\n",
       "    </tr>\n",
       "    <tr>\n",
       "      <th>4</th>\n",
       "      <td>31</td>\n",
       "      <td>129</td>\n",
       "      <td>00835886</td>\n",
       "      <td>31129</td>\n",
       "      <td>Nuckolls</td>\n",
       "      <td>Nuckolls County</td>\n",
       "      <td>06</td>\n",
       "      <td>H1</td>\n",
       "      <td>G4020</td>\n",
       "      <td>None</td>\n",
       "      <td>None</td>\n",
       "      <td>None</td>\n",
       "      <td>A</td>\n",
       "      <td>1489645185</td>\n",
       "      <td>1718484</td>\n",
       "      <td>+40.1764918</td>\n",
       "      <td>-098.0468422</td>\n",
       "      <td>POLYGON ((-98.27357 40.35036, -97.82082 40.350...</td>\n",
       "      <td>0</td>\n",
       "      <td>black</td>\n",
       "    </tr>\n",
       "  </tbody>\n",
       "</table>\n",
       "</div>"
      ],
      "text/plain": [
       "  STATEFP COUNTYFP  COUNTYNS  GEOID       NAME          NAMELSAD LSAD CLASSFP  \\\n",
       "0      31      039  00835841  31039     Cuming     Cuming County   06      H1   \n",
       "1      53      069  01513275  53069  Wahkiakum  Wahkiakum County   06      H1   \n",
       "2      35      011  00933054  35011    De Baca    De Baca County   06      H1   \n",
       "3      31      109  00835876  31109  Lancaster  Lancaster County   06      H1   \n",
       "4      31      129  00835886  31129   Nuckolls   Nuckolls County   06      H1   \n",
       "\n",
       "   MTFCC CSAFP CBSAFP METDIVFP FUNCSTAT       ALAND    AWATER     INTPTLAT  \\\n",
       "0  G4020  None   None     None        A  1477645345  10690204  +41.9158651   \n",
       "1  G4020  None   None     None        A   680976231  61568965  +46.2946377   \n",
       "2  G4020  None   None     None        A  6016818946  29090018  +34.3592729   \n",
       "3  G4020   339  30700     None        A  2169272970  22847034  +40.7835474   \n",
       "4  G4020  None   None     None        A  1489645185   1718484  +40.1764918   \n",
       "\n",
       "       INTPTLON                                           geometry  \\\n",
       "0  -096.7885168  POLYGON ((-96.55551 42.08996, -96.55517 41.742...   \n",
       "1  -123.4244583  POLYGON ((-123.72656 46.38487, -123.25907 46.3...   \n",
       "2  -104.3686961  POLYGON ((-104.44494 34.69166, -104.33972 34.6...   \n",
       "3  -096.6886584  POLYGON ((-96.91094 41.04612, -96.46387 41.045...   \n",
       "4  -098.0468422  POLYGON ((-98.27357 40.35036, -97.82082 40.350...   \n",
       "\n",
       "   color_code map_color  \n",
       "0           0     black  \n",
       "1           1     white  \n",
       "2           0     black  \n",
       "3           1     white  \n",
       "4           0     black  "
      ]
     },
     "execution_count": 11,
     "metadata": {},
     "output_type": "execute_result"
    }
   ],
   "source": [
    "gdf_counties['color_code'] = [i % 2 for i in range(len(gdf_counties))]\n",
    "gdf_counties['map_color'] = gdf_counties['color_code'].map(\n",
    "    {0:'black', 1:'white'})\n",
    "gdf_counties.head()"
   ]
  },
  {
   "cell_type": "code",
   "execution_count": 12,
   "id": "f177ded9-e9de-47de-931f-9cee1a3ea6e2",
   "metadata": {
    "execution": {
     "iopub.execute_input": "2024-08-27T05:24:18.304310Z",
     "iopub.status.busy": "2024-08-27T05:24:18.304202Z",
     "iopub.status.idle": "2024-08-27T05:24:18.306463Z",
     "shell.execute_reply": "2024-08-27T05:24:18.306104Z",
     "shell.execute_reply.started": "2024-08-27T05:24:18.304300Z"
    }
   },
   "outputs": [],
   "source": [
    "## Importing urban areas:"
   ]
  },
  {
   "cell_type": "code",
   "execution_count": 13,
   "id": "7fc1aebb-8bb7-41df-bf18-71220da7a1aa",
   "metadata": {
    "execution": {
     "iopub.execute_input": "2024-08-27T05:24:18.307228Z",
     "iopub.status.busy": "2024-08-27T05:24:18.307035Z",
     "iopub.status.idle": "2024-08-27T05:24:24.194468Z",
     "shell.execute_reply": "2024-08-27T05:24:24.194147Z",
     "shell.execute_reply.started": "2024-08-27T05:24:18.307213Z"
    }
   },
   "outputs": [
    {
     "data": {
      "text/html": [
       "<div>\n",
       "<style scoped>\n",
       "    .dataframe tbody tr th:only-of-type {\n",
       "        vertical-align: middle;\n",
       "    }\n",
       "\n",
       "    .dataframe tbody tr th {\n",
       "        vertical-align: top;\n",
       "    }\n",
       "\n",
       "    .dataframe thead th {\n",
       "        text-align: right;\n",
       "    }\n",
       "</style>\n",
       "<table border=\"1\" class=\"dataframe\">\n",
       "  <thead>\n",
       "    <tr style=\"text-align: right;\">\n",
       "      <th></th>\n",
       "      <th>UACE20</th>\n",
       "      <th>GEOID20</th>\n",
       "      <th>NAME20</th>\n",
       "      <th>NAMELSAD20</th>\n",
       "      <th>LSAD20</th>\n",
       "      <th>MTFCC20</th>\n",
       "      <th>UATYP20</th>\n",
       "      <th>FUNCSTAT20</th>\n",
       "      <th>ALAND20</th>\n",
       "      <th>AWATER20</th>\n",
       "      <th>INTPTLAT20</th>\n",
       "      <th>INTPTLON20</th>\n",
       "      <th>geometry</th>\n",
       "      <th>central_coords</th>\n",
       "    </tr>\n",
       "  </thead>\n",
       "  <tbody>\n",
       "    <tr>\n",
       "      <th>0</th>\n",
       "      <td>67240</td>\n",
       "      <td>67240</td>\n",
       "      <td>Pampa, TX</td>\n",
       "      <td>Pampa, TX Urban Area</td>\n",
       "      <td>67</td>\n",
       "      <td>G3500</td>\n",
       "      <td>U</td>\n",
       "      <td>S</td>\n",
       "      <td>21374659</td>\n",
       "      <td>0</td>\n",
       "      <td>+35.5451610</td>\n",
       "      <td>-100.9656498</td>\n",
       "      <td>POLYGON ((-100.94507 35.54718, -100.94529 35.5...</td>\n",
       "      <td>[35.5476915, -100.96320837052134]</td>\n",
       "    </tr>\n",
       "    <tr>\n",
       "      <th>1</th>\n",
       "      <td>23230</td>\n",
       "      <td>23230</td>\n",
       "      <td>Delta, CO</td>\n",
       "      <td>Delta, CO Urban Area</td>\n",
       "      <td>67</td>\n",
       "      <td>G3500</td>\n",
       "      <td>U</td>\n",
       "      <td>S</td>\n",
       "      <td>16126572</td>\n",
       "      <td>129608</td>\n",
       "      <td>+38.7454236</td>\n",
       "      <td>-108.0619343</td>\n",
       "      <td>POLYGON ((-108.04131 38.74094, -108.02754 38.7...</td>\n",
       "      <td>[38.745695, -108.05990631738334]</td>\n",
       "    </tr>\n",
       "    <tr>\n",
       "      <th>2</th>\n",
       "      <td>36001</td>\n",
       "      <td>36001</td>\n",
       "      <td>Gunnison, CO</td>\n",
       "      <td>Gunnison, CO Urban Area</td>\n",
       "      <td>67</td>\n",
       "      <td>G3500</td>\n",
       "      <td>U</td>\n",
       "      <td>S</td>\n",
       "      <td>9468678</td>\n",
       "      <td>11725</td>\n",
       "      <td>+38.5405505</td>\n",
       "      <td>-106.9384998</td>\n",
       "      <td>POLYGON ((-106.91308 38.53804, -106.93582 38.5...</td>\n",
       "      <td>[38.5416945, -106.93485211530263]</td>\n",
       "    </tr>\n",
       "    <tr>\n",
       "      <th>3</th>\n",
       "      <td>45775</td>\n",
       "      <td>45775</td>\n",
       "      <td>Kuna, ID</td>\n",
       "      <td>Kuna, ID Urban Area</td>\n",
       "      <td>67</td>\n",
       "      <td>G3500</td>\n",
       "      <td>U</td>\n",
       "      <td>S</td>\n",
       "      <td>16384896</td>\n",
       "      <td>46009</td>\n",
       "      <td>+43.5010643</td>\n",
       "      <td>-116.4168990</td>\n",
       "      <td>MULTIPOLYGON (((-116.39896 43.48833, -116.3974...</td>\n",
       "      <td>[43.4975285, -116.42118964627733]</td>\n",
       "    </tr>\n",
       "    <tr>\n",
       "      <th>4</th>\n",
       "      <td>05410</td>\n",
       "      <td>05410</td>\n",
       "      <td>Basalt, CO</td>\n",
       "      <td>Basalt, CO Urban Area</td>\n",
       "      <td>67</td>\n",
       "      <td>G3500</td>\n",
       "      <td>U</td>\n",
       "      <td>S</td>\n",
       "      <td>9433311</td>\n",
       "      <td>68797</td>\n",
       "      <td>+39.3835983</td>\n",
       "      <td>-107.0807354</td>\n",
       "      <td>MULTIPOLYGON (((-107.1105 39.40463, -107.09949...</td>\n",
       "      <td>[39.383948000000004, -107.08345277860855]</td>\n",
       "    </tr>\n",
       "  </tbody>\n",
       "</table>\n",
       "</div>"
      ],
      "text/plain": [
       "  UACE20 GEOID20        NAME20               NAMELSAD20 LSAD20 MTFCC20  \\\n",
       "0  67240   67240     Pampa, TX     Pampa, TX Urban Area     67   G3500   \n",
       "1  23230   23230     Delta, CO     Delta, CO Urban Area     67   G3500   \n",
       "2  36001   36001  Gunnison, CO  Gunnison, CO Urban Area     67   G3500   \n",
       "3  45775   45775      Kuna, ID      Kuna, ID Urban Area     67   G3500   \n",
       "4  05410   05410    Basalt, CO    Basalt, CO Urban Area     67   G3500   \n",
       "\n",
       "  UATYP20 FUNCSTAT20   ALAND20  AWATER20   INTPTLAT20    INTPTLON20  \\\n",
       "0       U          S  21374659         0  +35.5451610  -100.9656498   \n",
       "1       U          S  16126572    129608  +38.7454236  -108.0619343   \n",
       "2       U          S   9468678     11725  +38.5405505  -106.9384998   \n",
       "3       U          S  16384896     46009  +43.5010643  -116.4168990   \n",
       "4       U          S   9433311     68797  +39.3835983  -107.0807354   \n",
       "\n",
       "                                            geometry  \\\n",
       "0  POLYGON ((-100.94507 35.54718, -100.94529 35.5...   \n",
       "1  POLYGON ((-108.04131 38.74094, -108.02754 38.7...   \n",
       "2  POLYGON ((-106.91308 38.53804, -106.93582 38.5...   \n",
       "3  MULTIPOLYGON (((-116.39896 43.48833, -116.3974...   \n",
       "4  MULTIPOLYGON (((-107.1105 39.40463, -107.09949...   \n",
       "\n",
       "                              central_coords  \n",
       "0          [35.5476915, -100.96320837052134]  \n",
       "1           [38.745695, -108.05990631738334]  \n",
       "2          [38.5416945, -106.93485211530263]  \n",
       "3          [43.4975285, -116.42118964627733]  \n",
       "4  [39.383948000000004, -107.08345277860855]  "
      ]
     },
     "execution_count": 13,
     "metadata": {},
     "output_type": "execute_result"
    }
   ],
   "source": [
    "gdf_urban_areas = gpd.read_file(\n",
    "    path_to_shapefiles\n",
    "    +'tl_2020_us_uac20/tl_2020_us_uac20.shp')\n",
    "# Calculating representative points for each of these urban areas:\n",
    "gdf_urban_areas['geometry'] = (\n",
    "    gdf_urban_areas['geometry'].simplify(tolerance = 0.001).copy())\n",
    "gdf_urban_areas['central_coords'] = [\n",
    "    [coord.y, coord.x] for coord in \n",
    "    gdf_urban_areas['geometry'].representative_point()]\n",
    "# See https://geopandas.org/en/stable/docs/reference/api/geopandas.GeoSeries.representative_point.html#geopandas.GeoSeries.representative_point \n",
    "# and https://geopandas.org/en/stable/docs/reference/geoseries.html \n",
    "# (for the use of .x and .y)\n",
    "gdf_urban_areas.head()"
   ]
  },
  {
   "cell_type": "markdown",
   "id": "4d793e5b-3c05-4c2e-a756-0d56a93107ef",
   "metadata": {},
   "source": [
    "# Creating a black background for our maps:\n",
    "\n",
    "Because I prefer dark-mode desktop themes, I wanted the background of my maps to be black. However, tileless Folium maps have a relatively light background color by default. Therefore, I decided to go to https://geojson.io and draw a giant rectangle around the contiguous US that I could then use as a dark background. This is a pretty 'janky' solution, but it works for the purposes of these maps!\n",
    "\n",
    "(See [this post](https://github.com/python-visualization/branca/issues/91#issuecomment-1166392776) by aluthfian for a more sophisticated solution."
   ]
  },
  {
   "cell_type": "code",
   "execution_count": 14,
   "id": "8223c1cc-5e4e-4408-a7f2-45c539601c4a",
   "metadata": {
    "execution": {
     "iopub.execute_input": "2024-08-27T05:24:24.195029Z",
     "iopub.status.busy": "2024-08-27T05:24:24.194891Z",
     "iopub.status.idle": "2024-08-27T05:24:24.201655Z",
     "shell.execute_reply": "2024-08-27T05:24:24.201379Z",
     "shell.execute_reply.started": "2024-08-27T05:24:24.195014Z"
    }
   },
   "outputs": [
    {
     "data": {
      "text/html": [
       "<div>\n",
       "<style scoped>\n",
       "    .dataframe tbody tr th:only-of-type {\n",
       "        vertical-align: middle;\n",
       "    }\n",
       "\n",
       "    .dataframe tbody tr th {\n",
       "        vertical-align: top;\n",
       "    }\n",
       "\n",
       "    .dataframe thead th {\n",
       "        text-align: right;\n",
       "    }\n",
       "</style>\n",
       "<table border=\"1\" class=\"dataframe\">\n",
       "  <thead>\n",
       "    <tr style=\"text-align: right;\">\n",
       "      <th></th>\n",
       "      <th>geometry</th>\n",
       "    </tr>\n",
       "  </thead>\n",
       "  <tbody>\n",
       "    <tr>\n",
       "      <th>0</th>\n",
       "      <td>POLYGON ((-47.00516 -6.2409, -47.00516 69.9314...</td>\n",
       "    </tr>\n",
       "  </tbody>\n",
       "</table>\n",
       "</div>"
      ],
      "text/plain": [
       "                                            geometry\n",
       "0  POLYGON ((-47.00516 -6.2409, -47.00516 69.9314..."
      ]
     },
     "execution_count": 14,
     "metadata": {},
     "output_type": "execute_result"
    }
   ],
   "source": [
    "us_background = gpd.read_file('us_background.json')\n",
    "us_background"
   ]
  },
  {
   "cell_type": "markdown",
   "id": "5172e6e6-fa6e-4997-99fb-d9afe6f65aa6",
   "metadata": {},
   "source": [
    "## Creating a map of states and interstate highways\n",
    "\n",
    "Note: Initially, I planned to tweak the size of the Chrome webdriver window so that the US map would take up an ideal proportion of the screenshot. However, I found that some Chrome image width and height settings failed to work correctly, even though certain lower *and* higher resolution settings worked just fine.\n",
    "\n",
    "Therefore, I instead chose to use the Pillow library (imported as PIL) to crop the screenshot created by the Chrome webdriver. In order to preserve the Leaflet logo on the bottom right, I set the map's starting latitude and longitude coordinates so that the US would be centered near the bottom right of the image. That way, in order to create my centered image, I would only have to crop out the left and top areas of the image."
   ]
  },
  {
   "cell_type": "markdown",
   "id": "4bf13a0f-cdef-4444-bca7-0103fde7e1e2",
   "metadata": {},
   "source": [
    "## Defining style functions:\n",
    "\n",
    "These functions determine how various GeoJSON elements will be displayed within our desktop maps."
   ]
  },
  {
   "cell_type": "code",
   "execution_count": 15,
   "id": "8b709e99-fa8b-409b-8b82-4914e84eff71",
   "metadata": {
    "execution": {
     "iopub.execute_input": "2024-08-27T05:24:24.202561Z",
     "iopub.status.busy": "2024-08-27T05:24:24.202297Z",
     "iopub.status.idle": "2024-08-27T05:24:24.209557Z",
     "shell.execute_reply": "2024-08-27T05:24:24.209236Z",
     "shell.execute_reply.started": "2024-08-27T05:24:24.202541Z"
    }
   },
   "outputs": [],
   "source": [
    "road_style_function = lambda feature: {\n",
    "        \"color\": \"orange\",\n",
    "        \"opacity\":1,\n",
    "        \"weight\": 2,\n",
    "        \"fillOpacity\":0\n",
    "    }\n",
    "\n",
    "state_style_function = lambda feature: {\n",
    "        \"color\": \"white\",\n",
    "        \"opacity\":1,\n",
    "        \"weight\": 2,\n",
    "        \"fillOpacity\":0\n",
    "    }\n",
    "\n",
    "us_outline_style_function = lambda feature: {\n",
    "        \"color\": \"white\",\n",
    "        \"opacity\":1,\n",
    "        \"weight\": 2,\n",
    "        \"fillOpacity\":0\n",
    "    }\n",
    "\n",
    "\n",
    "county_style_function = lambda feature: {\n",
    "        \"color\": \"orange\",\n",
    "        \"opacity\":1,\n",
    "        \"weight\": 2,\n",
    "        \"fillOpacity\":0}\n",
    "\n",
    "urban_area_style_function = lambda feature: {\n",
    "        \"opacity\":0,\n",
    "        \"fillColor\": 'orange',\n",
    "        \"fillOpacity\":1}\n",
    "\n",
    "# The following alternative county style function creates more of a \n",
    "# 'camouflaged' look.\n",
    "# county_style_function = lambda feature: {\n",
    "#         \"color\": \"white\",\n",
    "#         \"opacity\":0,\n",
    "#         \"weight\": 0,\n",
    "#         \"fillOpacity\":0.3,\n",
    "#         \"fillColor\":feature['properties']['map_color']\n",
    "#     }\n",
    "# The fillColor entry within the above code was based on\n",
    "# the example shown in\n",
    "# https://python-visualization.github.io/folium/latest/user_guide/geojson/geojson.html .\n",
    "\n",
    "background_style_function = lambda feature: {\n",
    "    'fillColor':'000000', 'fillOpacity':1}"
   ]
  },
  {
   "cell_type": "markdown",
   "id": "7f4bc3da-de4e-408f-89a8-6482a93649e1",
   "metadata": {},
   "source": [
    "# Creating HTML maps:"
   ]
  },
  {
   "cell_type": "markdown",
   "id": "e97dd831-114a-4035-9413-9fc6bfc5d4d7",
   "metadata": {},
   "source": [
    "## Mapping states and roads:"
   ]
  },
  {
   "cell_type": "code",
   "execution_count": 16,
   "id": "3f6e5c5c-a4c5-4693-9405-09a8ae889d69",
   "metadata": {
    "execution": {
     "iopub.execute_input": "2024-08-27T05:24:24.210175Z",
     "iopub.status.busy": "2024-08-27T05:24:24.210016Z",
     "iopub.status.idle": "2024-08-27T05:24:25.511196Z",
     "shell.execute_reply": "2024-08-27T05:24:25.510747Z",
     "shell.execute_reply.started": "2024-08-27T05:24:24.210163Z"
    }
   },
   "outputs": [],
   "source": [
    "\n",
    "# Note: I shifted my regular contiguous US starting coordinates (38 and -95)\n",
    "# to the north and west so that, when cropping the image, the Leaflet copyright\n",
    "# notice would remain in place\n",
    "\n",
    "m_states_and_roads = folium.Map([43, -107], \n",
    "               zoom_start = 7, tiles = None,\n",
    "              zoom_control = False) # Since we're only interested in the\n",
    "# static version of this map, there's no reason to include zoom control\n",
    "# (which would clutter the screenshot)\n",
    "folium.GeoJson(us_background, style_function = background_style_function).add_to(m_states_and_roads)\n",
    "folium.GeoJson(gdf_states, style_function = state_style_function).add_to(m_states_and_roads)\n",
    "folium.GeoJson(gdf_roads, style_function = road_style_function).add_to(m_states_and_roads)\n",
    "m_states_and_roads.save('maps/states_and_roads.html')\n",
    "# m_states_and_roads"
   ]
  },
  {
   "cell_type": "markdown",
   "id": "a61084b4-f143-4068-9f4c-cdbf3aae0c98",
   "metadata": {},
   "source": [
    "## Mapping county outlines:"
   ]
  },
  {
   "cell_type": "code",
   "execution_count": 17,
   "id": "dc9bcf94-9882-42e4-9ae5-367746d74ad3",
   "metadata": {
    "execution": {
     "iopub.execute_input": "2024-08-27T05:24:25.512089Z",
     "iopub.status.busy": "2024-08-27T05:24:25.511906Z",
     "iopub.status.idle": "2024-08-27T05:24:28.369352Z",
     "shell.execute_reply": "2024-08-27T05:24:28.368916Z",
     "shell.execute_reply.started": "2024-08-27T05:24:25.512074Z"
    }
   },
   "outputs": [],
   "source": [
    "m_counties = folium.Map([43, -107], \n",
    "               zoom_start = 7, tiles = None,\n",
    "              zoom_control = False)\n",
    "\n",
    "folium.GeoJson(\n",
    "    us_background, \n",
    "    style_function = background_style_function).add_to(m_counties)\n",
    "folium.GeoJson(gdf_counties, style_function = county_style_function).add_to(m_counties)\n",
    "# folium.GeoJson(gdf_states, style_function = state_style_function).add_to(m_counties)\n",
    "# The following line was useful when county fill colors were displayed rather \n",
    "# than outlines. However, now that county outlines are present, they themselves\n",
    "# form an outline of the country's boundaries--rendering this additional \n",
    "# US outline unnecessary.\n",
    "# folium.GeoJson(gdf_us_outline,\n",
    "              # style_function = us_outline_style_function).add_to(m_counties)\n",
    "\n",
    "m_counties.save('maps/counties.html')\n",
    "# m_counties"
   ]
  },
  {
   "cell_type": "markdown",
   "id": "23980cb9-380c-4521-9acb-ce832e42a8c1",
   "metadata": {},
   "source": [
    "## Mapping urban area boundaries:"
   ]
  },
  {
   "cell_type": "code",
   "execution_count": 18,
   "id": "66adcc4e-7031-4a77-a4ec-d0ea9c4719da",
   "metadata": {
    "execution": {
     "iopub.execute_input": "2024-08-27T05:24:28.369983Z",
     "iopub.status.busy": "2024-08-27T05:24:28.369822Z",
     "iopub.status.idle": "2024-08-27T05:24:31.950788Z",
     "shell.execute_reply": "2024-08-27T05:24:31.950097Z",
     "shell.execute_reply.started": "2024-08-27T05:24:28.369972Z"
    }
   },
   "outputs": [],
   "source": [
    "m_urban_areas = folium.Map([43, -107], \n",
    "               zoom_start = 7, tiles = None,\n",
    "              zoom_control = False)\n",
    "\n",
    "folium.GeoJson(\n",
    "    us_background, \n",
    "    style_function = background_style_function).add_to(m_urban_areas)\n",
    "folium.GeoJson(gdf_urban_areas, \n",
    "               style_function = urban_area_style_function).add_to(m_urban_areas)\n",
    "# I prefer the look of this map without the US outline, but you can find\n",
    "# a variant with this outline added in within the extra_maps folder.\n",
    "# folium.GeoJson(gdf_us_outline,\n",
    "#                style_function = us_outline_style_function).add_to(m_urban_areas)\n",
    "\n",
    "m_urban_areas.save('maps/urban_areas.html')\n",
    "# m_urban_areas"
   ]
  },
  {
   "cell_type": "markdown",
   "id": "c538e406-ed83-4fe1-aa18-59149e2c2325",
   "metadata": {},
   "source": [
    "## Mapping urban areas' central points:"
   ]
  },
  {
   "cell_type": "code",
   "execution_count": 19,
   "id": "1a6e9a36-92b3-4eb6-8b4e-1b059c9253ab",
   "metadata": {
    "execution": {
     "iopub.execute_input": "2024-08-27T05:24:31.951932Z",
     "iopub.status.busy": "2024-08-27T05:24:31.951702Z",
     "iopub.status.idle": "2024-08-27T05:24:33.400661Z",
     "shell.execute_reply": "2024-08-27T05:24:33.399958Z",
     "shell.execute_reply.started": "2024-08-27T05:24:31.951905Z"
    }
   },
   "outputs": [],
   "source": [
    "m_urban_area_dots = folium.Map([43, -107], \n",
    "               zoom_start = 7, tiles = None,\n",
    "              zoom_control = False)\n",
    "folium.GeoJson(\n",
    "    us_background, \n",
    "    style_function = background_style_function).add_to(m_urban_area_dots)\n",
    "# Adding central points to the map in the form of CircleMarker objects:\n",
    "for i in range(len(gdf_urban_areas)):\n",
    "    folium.CircleMarker(\n",
    "        location = gdf_urban_areas.iloc[i]['central_coords'],\n",
    "    stroke = False,\n",
    "    fill_opacity=1,\n",
    "    fill_color = 'orange',\n",
    "    radius = 5).add_to(m_urban_area_dots)\n",
    "folium.GeoJson(gdf_us_outline,\n",
    "               style_function = us_outline_style_function).add_to(\n",
    "    m_urban_area_dots)\n",
    "# This code was based on:\n",
    "# https://python-visualization.github.io/folium/latest/user_guide/vector_layers/circle_and_circle_marker.html\n",
    "\n",
    "m_urban_area_dots.save('maps/urban_area_dots.html')\n",
    "\n",
    "# m_urban_area_dots"
   ]
  },
  {
   "cell_type": "markdown",
   "id": "bb399f01-c1b1-4145-8cad-5f62c81fb12c",
   "metadata": {},
   "source": [
    "# Creating screenshots of these maps:"
   ]
  },
  {
   "cell_type": "markdown",
   "id": "d7c99c6f-8bdb-44ae-83e1-34be13759ad9",
   "metadata": {},
   "source": [
    "## Creating a function that will create PNG copies of HTML maps:\n",
    "\n",
    "(This function was based off code in the [choropleth_map_functions.py](https://github.com/kburchfiel/pfn/blob/main/Mapping/choropleth_map_functions.py) file within the Mapping section of my [Python for Nonprofits](https://github.com/kburchfiel/pfn/tree/main) project."
   ]
  },
  {
   "cell_type": "code",
   "execution_count": 20,
   "id": "9d7867a5-cb1b-4375-8262-d0fffed0e4a3",
   "metadata": {
    "execution": {
     "iopub.execute_input": "2024-08-27T05:24:33.401649Z",
     "iopub.status.busy": "2024-08-27T05:24:33.401506Z",
     "iopub.status.idle": "2024-08-27T05:24:33.406096Z",
     "shell.execute_reply": "2024-08-27T05:24:33.405733Z",
     "shell.execute_reply.started": "2024-08-27T05:24:33.401634Z"
    }
   },
   "outputs": [],
   "source": [
    "def create_map_screenshot(html_map_folder,\n",
    "    map_filename, png_map_folder, \n",
    "    delete_html_file):\n",
    "    print(\"Generating screenshot.\")\n",
    "    options = webdriver.ChromeOptions()\n",
    "    # Source: https://www.selenium.dev/documentation/webdriver/browsers/chrome/\n",
    "    options.add_argument(f'--window-size={driver_window_width},\\\n",
    "{driver_window_height}') # I found that this window\n",
    "    # size, along with a starting zoom of 6 within our mapping code,\n",
    "    # created a relatively detailed map of the contiguous 48 US states. \n",
    "    # If you'd like to create an even more detailed map, consider setting \n",
    "    # your starting zoom to 7 and your window size to 6000,3375.\n",
    "    options.add_argument('--headless') # In my experience, this addition \n",
    "    # (which prevents the Selenium-driven browser from displaying on your \n",
    "    # computer) was necessary for allowing 4K screenshots to get saved\n",
    "    # as 3840x2160-pixel images. Without this line, the screenshots would \n",
    "    # get rendered with a resolution of 3814x1868 pixels.\n",
    "    # Source of the above two lines:  \n",
    "    # https://www.selenium.dev/documentation/webdriver/browsers/chrome/\n",
    "    # and\n",
    "    # https://github.com/GoogleChrome/chrome-launcher/blob/main/docs/chrome-flags-for-tools.md\n",
    "    # I learned about the necessity of using headless mode *somewhere* on \n",
    "    # StackOverflow. Many answers to this question regarding generating \n",
    "    # screenshots reference it as an important step, for instance:\n",
    "    # https://stackoverflow.com/questions/41721734/take-screenshot-of-full-page-with-selenium-python-with-chromedriver/57338909\n",
    "\n",
    "    \n",
    "    # Launching the Selenium driver:\n",
    "    driver = webdriver.Chrome(options=options) \n",
    "    # Source: https://www.selenium.dev/documentation/webdriver/browsers/chrome/\n",
    "    \n",
    "    # Navigating to the map:\n",
    "    # Note: I needed to precede the local path with 'file://' as \n",
    "    # noted by GitHub user lukeis here: \n",
    "    # https://github.com/seleniumhq/selenium-google-code-issue-archive/issues/3997#issuecomment-192014472\n",
    "    map_path = f\"file://{html_map_folder}/{map_filename}.html\"\n",
    "    print(map_path)\n",
    "    driver.get(map_path)\n",
    "    # Source: https://www.selenium.dev/documentation/\n",
    "    time.sleep(1) # Helps ensure that the browser has enough \n",
    "    # time to download\n",
    "    # map contents from the tile provider. This time might need to be\n",
    "    # increased if a slow internet connection is in use. Conversely,\n",
    "    # if no tiles are being incorporated into the map, \n",
    "    # there may not be any need to call\n",
    "    # time.sleep().\n",
    "    # Taking our screenshot and then saving it as a PNG image:\n",
    "    driver.get_screenshot_as_file(f\"{png_map_folder}/{map_filename}.png\")\n",
    "    # Source: \n",
    "    # https://selenium-python.readthedocs.io/api.html#selenium.webdriver.remote.webdriver.WebDriver.get_screenshot_as_file\n",
    "    \n",
    "    # Exiting out of the webdriver:\n",
    "    driver.quit()\n",
    "    # Source: https://www.selenium.dev/documentation/\n",
    "    \n",
    "    if (delete_html_file == True):\n",
    "        os.remove(f\"{html_map_folder}/{map_filename}.html\")\n",
    "        print(\"Removed HTML copy of map.\")"
   ]
  },
  {
   "cell_type": "markdown",
   "id": "7f119358-28b9-465d-b6ea-8564e15614d9",
   "metadata": {},
   "source": [
    "### Configuring the Selenium Webdriver that will be used to generate these screenhsots:"
   ]
  },
  {
   "cell_type": "code",
   "execution_count": 21,
   "id": "f90614f7-14f8-49da-b6d7-a986fa9499d6",
   "metadata": {
    "execution": {
     "iopub.execute_input": "2024-08-27T05:24:33.406865Z",
     "iopub.status.busy": "2024-08-27T05:24:33.406720Z",
     "iopub.status.idle": "2024-08-27T05:24:33.411003Z",
     "shell.execute_reply": "2024-08-27T05:24:33.410728Z",
     "shell.execute_reply.started": "2024-08-27T05:24:33.406854Z"
    }
   },
   "outputs": [
    {
     "data": {
      "text/plain": [
       "(7680, 4320)"
      ]
     },
     "execution_count": 21,
     "metadata": {},
     "output_type": "execute_result"
    }
   ],
   "source": [
    "uhd_width = 3840\n",
    "uhd_height = 2160\n",
    "\n",
    "scale_factor = 2\n",
    "\n",
    "driver_window_width = uhd_width * scale_factor\n",
    "driver_window_height = uhd_height * scale_factor\n",
    "driver_window_width, driver_window_height\n",
    "\n",
    "# Note: an uhd_width of 3840, an uhd_height of 2160,\n",
    "# a scale factor of 3, and a folium.Map() starting_zoom of 8\n",
    "# work pretty nicely together, but the resulting 11520*6480 resolution is\n",
    "# probably overkill for just about any end user.\n",
    "\n",
    "# As discussed earlier, I had originally planned to tweak these width and \n",
    "# height settings in order to produce a a cropped map, but I ended up with\n",
    "# a severely truncated output. Therefore, I instead decided to \n",
    "# use PIL to complete the cropping tasks."
   ]
  },
  {
   "cell_type": "code",
   "execution_count": 22,
   "id": "3842aa0f-3d6e-4b43-814f-2051729fd9d3",
   "metadata": {
    "execution": {
     "iopub.execute_input": "2024-08-27T05:24:33.411498Z",
     "iopub.status.busy": "2024-08-27T05:24:33.411395Z",
     "iopub.status.idle": "2024-08-27T05:24:33.413520Z",
     "shell.execute_reply": "2024-08-27T05:24:33.413220Z",
     "shell.execute_reply.started": "2024-08-27T05:24:33.411489Z"
    }
   },
   "outputs": [],
   "source": [
    "map_folder = os.getcwd() + '/maps'"
   ]
  },
  {
   "cell_type": "markdown",
   "id": "2a92f0e6-3a2d-4e9a-a9b5-18dbab74a02a",
   "metadata": {},
   "source": [
    "## Creating a function for cropping these screenshots:"
   ]
  },
  {
   "cell_type": "code",
   "execution_count": 23,
   "id": "bacb3352-b667-4cfe-9889-36665a199649",
   "metadata": {
    "execution": {
     "iopub.execute_input": "2024-08-27T05:24:33.414144Z",
     "iopub.status.busy": "2024-08-27T05:24:33.414023Z",
     "iopub.status.idle": "2024-08-27T05:24:33.416488Z",
     "shell.execute_reply": "2024-08-27T05:24:33.416216Z",
     "shell.execute_reply.started": "2024-08-27T05:24:33.414135Z"
    }
   },
   "outputs": [],
   "source": [
    "def crop_screenshot(path_to_source, path_to_dest,\n",
    "                   left, upper, right, lower, dest_file_format = 'PNG'):\n",
    "    '''\n",
    "    This function crops an image located at path_to_source, then \n",
    "    saves it to path_to_dest. \n",
    "    \n",
    "    (These paths can be either relative or \n",
    "    absolute. To overwrite the original image, simply make path_to_dest\n",
    "    the same value as path_to_source. Make sure to include the file extension\n",
    "    within these paths as well.)\n",
    "\n",
    "    dest_file_format: the extension to use when saving the image. It should\n",
    "    match that shown within path_to_dest.\n",
    "\n",
    "    left, upper, right, lower: the values to pass to PIL's crop() function.\n",
    "    For more details on these values, see:\n",
    "    https://pillow.readthedocs.io/en/stable/reference/Image.html#PIL.Image.Image.crop\n",
    "    \n",
    "    '''\n",
    "    \n",
    "    # The following code was based on:\n",
    "    # https://pillow.readthedocs.io/en/stable/reference/Image.html#PIL.Image.Image.crop\n",
    "    \n",
    "    with Image.open(path_to_source) as im:\n",
    "        im_crop = im.crop((left, upper, right, lower))\n",
    "    \n",
    "    # Overwriting the original image (since there's no reason to keep it):\n",
    "    \n",
    "    im_crop.save(path_to_dest, dest_file_format)"
   ]
  },
  {
   "cell_type": "markdown",
   "id": "a299ce48-a61e-41d6-86ef-2d6b0e6ad823",
   "metadata": {
    "execution": {
     "iopub.execute_input": "2024-08-27T03:27:19.722571Z",
     "iopub.status.busy": "2024-08-27T03:27:19.722459Z",
     "iopub.status.idle": "2024-08-27T03:27:19.725186Z",
     "shell.execute_reply": "2024-08-27T03:27:19.724713Z",
     "shell.execute_reply.started": "2024-08-27T03:27:19.722556Z"
    }
   },
   "source": [
    "### Setting parameters that will be passed to the crop_screenshot() function:"
   ]
  },
  {
   "cell_type": "code",
   "execution_count": 24,
   "id": "5d96b9d6-c18a-46fd-b403-fc876f68a89a",
   "metadata": {
    "execution": {
     "iopub.execute_input": "2024-08-27T05:24:33.417033Z",
     "iopub.status.busy": "2024-08-27T05:24:33.416922Z",
     "iopub.status.idle": "2024-08-27T05:24:33.420140Z",
     "shell.execute_reply": "2024-08-27T05:24:33.419847Z",
     "shell.execute_reply.started": "2024-08-27T05:24:33.417023Z"
    }
   },
   "outputs": [
    {
     "name": "stdout",
     "output_type": "stream",
     "text": [
      "2000 1125.0 7680 4320\n"
     ]
    }
   ],
   "source": [
    "left_crop = 2000\n",
    "top_crop = left_crop * 9/16 # Initializing top_crop as\n",
    "# a scaled version of left_crop ensures that the final\n",
    "# image will remain in a 16:9 aspect ratio.\n",
    "right = 7680\n",
    "lower = 4320\n",
    "print(left_crop, top_crop, right, lower)"
   ]
  },
  {
   "cell_type": "markdown",
   "id": "738aeec5-5e86-4be3-8acf-3dbb0b4cea19",
   "metadata": {},
   "source": [
    "## Using create_map_screenshot() and crop_creenshot() to create screenhots of our maps, then deleting the HTML files on which they were based:"
   ]
  },
  {
   "cell_type": "code",
   "execution_count": 25,
   "id": "6996a566-3267-4deb-aabf-8173c8361690",
   "metadata": {
    "execution": {
     "iopub.execute_input": "2024-08-27T05:24:33.420679Z",
     "iopub.status.busy": "2024-08-27T05:24:33.420571Z",
     "iopub.status.idle": "2024-08-27T05:24:37.105129Z",
     "shell.execute_reply": "2024-08-27T05:24:37.104660Z",
     "shell.execute_reply.started": "2024-08-27T05:24:33.420668Z"
    }
   },
   "outputs": [
    {
     "name": "stdout",
     "output_type": "stream",
     "text": [
      "Generating screenshot.\n",
      "file:///home/kjb3/kjb3docs/programming/py/kjb3_programs_2/desktop_maps/maps/states_and_roads.html\n",
      "Removed HTML copy of map.\n"
     ]
    }
   ],
   "source": [
    "create_map_screenshot(\n",
    "    html_map_folder = map_folder,\n",
    "    map_filename = 'states_and_roads',\n",
    "    png_map_folder = map_folder,\n",
    "    delete_html_file = True)\n",
    "\n",
    "crop_screenshot(\n",
    "    'maps/states_and_roads.png', 'maps/states_and_roads.png',\n",
    "    left = left_crop, upper = top_crop, right = right, lower = lower)"
   ]
  },
  {
   "cell_type": "code",
   "execution_count": 26,
   "id": "6f28805a-449b-4b83-b1c9-01eac08f0628",
   "metadata": {
    "execution": {
     "iopub.execute_input": "2024-08-27T05:24:37.105816Z",
     "iopub.status.busy": "2024-08-27T05:24:37.105668Z",
     "iopub.status.idle": "2024-08-27T05:24:41.314548Z",
     "shell.execute_reply": "2024-08-27T05:24:41.313797Z",
     "shell.execute_reply.started": "2024-08-27T05:24:37.105806Z"
    }
   },
   "outputs": [
    {
     "name": "stdout",
     "output_type": "stream",
     "text": [
      "Generating screenshot.\n",
      "file:///home/kjb3/kjb3docs/programming/py/kjb3_programs_2/desktop_maps/maps/counties.html\n",
      "Removed HTML copy of map.\n"
     ]
    }
   ],
   "source": [
    "create_map_screenshot(\n",
    "    html_map_folder = map_folder,\n",
    "    map_filename = 'counties',\n",
    "    png_map_folder = map_folder,\n",
    "    delete_html_file = True)\n",
    "\n",
    "crop_screenshot(\n",
    "    'maps/counties.png', 'maps/counties.png',\n",
    "    left = left_crop, upper = top_crop, \n",
    "    right = right, lower = lower)"
   ]
  },
  {
   "cell_type": "code",
   "execution_count": 27,
   "id": "779b523b-8ec1-4a13-92dd-8f28d8930537",
   "metadata": {
    "execution": {
     "iopub.execute_input": "2024-08-27T05:24:41.315644Z",
     "iopub.status.busy": "2024-08-27T05:24:41.315420Z",
     "iopub.status.idle": "2024-08-27T05:24:45.143204Z",
     "shell.execute_reply": "2024-08-27T05:24:45.142779Z",
     "shell.execute_reply.started": "2024-08-27T05:24:41.315618Z"
    }
   },
   "outputs": [
    {
     "name": "stdout",
     "output_type": "stream",
     "text": [
      "Generating screenshot.\n",
      "file:///home/kjb3/kjb3docs/programming/py/kjb3_programs_2/desktop_maps/maps/urban_areas.html\n",
      "Removed HTML copy of map.\n"
     ]
    }
   ],
   "source": [
    "create_map_screenshot(\n",
    "    html_map_folder = map_folder,\n",
    "    map_filename = 'urban_areas',\n",
    "    png_map_folder = map_folder,\n",
    "    delete_html_file = True)\n",
    "\n",
    "crop_screenshot(\n",
    "    'maps/urban_areas.png', 'maps/urban_areas.png',\n",
    "    left = left_crop, upper = top_crop, \n",
    "    right = right, lower = lower)"
   ]
  },
  {
   "cell_type": "code",
   "execution_count": 28,
   "id": "202d7a2e-1424-450d-abb4-87bdd7753ea5",
   "metadata": {
    "execution": {
     "iopub.execute_input": "2024-08-27T05:24:45.143831Z",
     "iopub.status.busy": "2024-08-27T05:24:45.143706Z",
     "iopub.status.idle": "2024-08-27T05:24:48.360792Z",
     "shell.execute_reply": "2024-08-27T05:24:48.360428Z",
     "shell.execute_reply.started": "2024-08-27T05:24:45.143817Z"
    }
   },
   "outputs": [
    {
     "name": "stdout",
     "output_type": "stream",
     "text": [
      "Generating screenshot.\n",
      "file:///home/kjb3/kjb3docs/programming/py/kjb3_programs_2/desktop_maps/maps/urban_area_dots.html\n",
      "Removed HTML copy of map.\n"
     ]
    }
   ],
   "source": [
    "create_map_screenshot(\n",
    "    html_map_folder = map_folder,\n",
    "    map_filename = 'urban_area_dots',\n",
    "    png_map_folder = map_folder,\n",
    "    delete_html_file = True)\n",
    "\n",
    "crop_screenshot(\n",
    "    'maps/urban_area_dots.png', 'maps/urban_area_dots.png',\n",
    "    left = left_crop, upper = top_crop, \n",
    "    right = right, lower = lower)"
   ]
  },
  {
   "cell_type": "code",
   "execution_count": 29,
   "id": "c9d9a18a-dea1-4877-811c-0b04df056ddb",
   "metadata": {
    "execution": {
     "iopub.execute_input": "2024-08-27T05:24:48.361312Z",
     "iopub.status.busy": "2024-08-27T05:24:48.361202Z",
     "iopub.status.idle": "2024-08-27T05:24:48.364201Z",
     "shell.execute_reply": "2024-08-27T05:24:48.363858Z",
     "shell.execute_reply.started": "2024-08-27T05:24:48.361303Z"
    }
   },
   "outputs": [
    {
     "name": "stdout",
     "output_type": "stream",
     "text": [
      "2024-08-27 01:24:48: Finished running script in 41.483 seconds.\n"
     ]
    }
   ],
   "source": [
    "current_timestamp = datetime.now(\n",
    ").isoformat(sep = ' ', timespec = 'seconds')\n",
    "# See https://docs.python.org/3/library/datetime.html#datetime.datetime.isoformat\n",
    "current_time = time.ctime()\n",
    "end_time = time.time(); run_time = end_time - start_time\n",
    "print(f\"{current_timestamp}: Finished running script in {round(run_time, 3)} seconds.\") "
   ]
  }
 ],
 "metadata": {
  "kernelspec": {
   "display_name": "Python 3 (ipykernel)",
   "language": "python",
   "name": "python3"
  },
  "language_info": {
   "codemirror_mode": {
    "name": "ipython",
    "version": 3
   },
   "file_extension": ".py",
   "mimetype": "text/x-python",
   "name": "python",
   "nbconvert_exporter": "python",
   "pygments_lexer": "ipython3",
   "version": "3.12.5"
  }
 },
 "nbformat": 4,
 "nbformat_minor": 5
}
